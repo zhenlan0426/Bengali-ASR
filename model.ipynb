{
 "cells": [
  {
   "cell_type": "code",
   "execution_count": 1,
   "metadata": {
    "scrolled": true
   },
   "outputs": [],
   "source": [
    "import jax.numpy as jnp\n",
    "import jax\n",
    "if jax.device_count()>1:\n",
    "    dtype = jnp.bfloat16\n",
    "    num_workers = 16\n",
    "    try:\n",
    "        import transformers\n",
    "        speech_path = 'bengaliai-speech/train_mp3s/'\n",
    "        data_path = 'bengaliai-speech/train.csv'\n",
    "    except:\n",
    "        !pip install librosa --quiet\n",
    "        !pip install git+https://github.com/zhenlan0426/transformers --quiet\n",
    "        !pip install evaluate --quiet\n",
    "        !pip install sentencepiece --quiet\n",
    "        !pip install jiwer --quiet\n",
    "        speech_path = '/kaggle/input/bengaliai-speech/train_mp3s/'\n",
    "        data_path = '/kaggle/input/bengaliai-speech/train.csv'\n",
    "        \n",
    "else:\n",
    "    dtype = jnp.float16\n",
    "    speech_path = 'data/train_mp3s/'\n",
    "    data_path = 'data/train.csv'\n",
    "    num_workers = 4"
   ]
  },
  {
   "cell_type": "code",
   "execution_count": 2,
   "metadata": {},
   "outputs": [],
   "source": [
    "#from whisper_jax import FlaxWhisperForConditionalGeneration\n",
    "from transformers import FlaxWhisperForConditionalGeneration\n",
    "from functions import *\n",
    "from functools import partial\n",
    "import optax\n",
    "import evaluate\n",
    "from jax import random\n",
    "from transformers import AutoTokenizer"
   ]
  },
  {
   "cell_type": "code",
   "execution_count": 3,
   "metadata": {},
   "outputs": [],
   "source": [
    "batch_size = 16\n",
    "pad_to_multiple_of = 4\n",
    "max_length_gen = 48\n",
    "epochs = 1\n",
    "verbose = 400\n",
    "\n",
    "\n",
    "# tokenizer = WhisperTokenizer.from_pretrained(\"openai/whisper-large-v2\", language=\"bn\", task=\"transcribe\")\n",
    "tokenizer = AutoTokenizer.from_pretrained(\"csebuetnlp/banglat5\")\n",
    "feature_extractor = WhisperFeatureExtractor.from_pretrained(\"openai/whisper-large-v2\")\n",
    "text = pd.read_csv(data_path)"
   ]
  },
  {
   "cell_type": "code",
   "execution_count": 4,
   "metadata": {},
   "outputs": [],
   "source": [
    "dataset = AudioDataset(text.iloc[:900000],speech_path)\n",
    "train_loader = DataLoader(dataset, batch_size=batch_size, shuffle=True, num_workers=4, \\\n",
    "                        collate_fn=partial(collate_fn,tokenizer=tokenizer,feature_extractor=feature_extractor,pad_to_multiple_of=pad_to_multiple_of,IsTrain=True))\n",
    "\n",
    "dataset = AudioDataset(text.iloc[900000:],speech_path)\n",
    "test_loader = DataLoader(dataset, batch_size=batch_size*4, shuffle=False, num_workers=4, \\\n",
    "                        collate_fn=partial(collate_fn,tokenizer=tokenizer,feature_extractor=feature_extractor,pad_to_multiple_of=pad_to_multiple_of,IsTrain=False))"
   ]
  },
  {
   "cell_type": "code",
   "execution_count": 5,
   "metadata": {},
   "outputs": [],
   "source": [
    "# audio,input_ids,attention_mask = next(iter(train_loader))\n",
    "# audio,input_ids,attention_mask = jnp.array(audio,dtype=dtype),jnp.array(input_ids),jnp.array(attention_mask)"
   ]
  },
  {
   "cell_type": "code",
   "execution_count": 6,
   "metadata": {},
   "outputs": [],
   "source": [
    "# load the processor and model\n",
    "model, params = FlaxWhisperForConditionalGeneration.from_pretrained(\n",
    "    \"openai/whisper-large-v2\", dtype=dtype, _do_init=False,)\n",
    "model.config.forced_decoder_ids = None\n",
    "#model.generation_config.decoder_start_token_id = [50258, 50302, 50359, 50363] # '<|startoftranscript|><|bn|><|transcribe|><|notimestamps|>"
   ]
  },
  {
   "cell_type": "code",
   "execution_count": 7,
   "metadata": {},
   "outputs": [],
   "source": [
    "# ensure std of init is the same\n",
    "std_ = params['model']['decoder']['embed_tokens']['embedding'].std().item()\n",
    "# reset the embedding params\n",
    "params['model']['decoder']['embed_tokens']['embedding'] = params['model']['decoder']['embed_tokens']['embedding'].at[:tokenizer.vocab_size]\\\n",
    "                                                                .set(random.normal(random.PRNGKey(7),(tokenizer.vocab_size,model.config.d_model)) * std_)\n",
    "embedding = params['model']['decoder']['embed_tokens']['embedding']"
   ]
  },
  {
   "cell_type": "code",
   "execution_count": 8,
   "metadata": {},
   "outputs": [],
   "source": [
    "opt = optax.adamw(learning_rate=1e-3)\n",
    "# opt_states = opt.init(embedding)\n",
    "opt_states = opt.init(params)"
   ]
  },
  {
   "cell_type": "code",
   "execution_count": 9,
   "metadata": {},
   "outputs": [],
   "source": [
    "@jax.jit\n",
    "def train_one_step_embed(embedding,params,audio,input_ids,attention_mask,opt_states):\n",
    "    def loss_fn(embedding,params,audio,input_ids,attention_mask):\n",
    "        params['model']['decoder']['embed_tokens']['embedding'] = embedding\n",
    "        out = model(audio,input_ids,decoder_attention_mask=attention_mask,params=params,train=True).logits # (B, L, d)\n",
    "        return jnp.mean(optax.softmax_cross_entropy_with_integer_labels(out[:,3:-1], input_ids[:,4:])*attention_mask[:,4:])\n",
    "    grad_fn = jax.value_and_grad(loss_fn,has_aux=False)\n",
    "    l,grads = grad_fn(embedding,params,audio,input_ids,attention_mask)\n",
    "    updates, opt_states = opt.update(grads, opt_states,params=embedding)\n",
    "    embedding = optax.apply_updates(embedding, updates)\n",
    "    return embedding,opt_states,l\n",
    "\n",
    "@jax.jit\n",
    "def train_one_step(params,audio,input_ids,attention_mask,opt_states):\n",
    "    def loss_fn(params,audio,input_ids,attention_mask):\n",
    "        out = model(audio,input_ids,decoder_attention_mask=attention_mask,params=params,train=True).logits # (B, L, d)\n",
    "        return jnp.mean(optax.softmax_cross_entropy_with_integer_labels(out[:,3:-1], input_ids[:,4:])*attention_mask[:,4:])\n",
    "    grad_fn = jax.value_and_grad(loss_fn,has_aux=False)\n",
    "    l,grads = grad_fn(params,audio,input_ids,attention_mask)\n",
    "    updates, opt_states = opt.update(grads, opt_states,params=params)\n",
    "    params = optax.apply_updates(params, updates)\n",
    "    return params,opt_states,l\n",
    "\n",
    "#@jax.jit\n",
    "def generate(params,audio):\n",
    "    return model.generate(audio,params=params,max_length=max_length_gen)\n",
    "\n",
    "metric = evaluate.load(\"wer\")\n",
    "def eval_one_step(params,audio,txt):\n",
    "    generated_ids = generate(params,audio).sequences\n",
    "    transcriptions = tokenizer.batch_decode(generated_ids.tolist(), skip_special_tokens=True)\n",
    "    wer = metric.compute(predictions=transcriptions, references=txt)\n",
    "    return wer\n",
    "\n",
    "def batch_generate(loader):\n",
    "    pass\n",
    "    #transcriptions = [txt + \"|\" for txt in transcriptions]"
   ]
  },
  {
   "cell_type": "code",
   "execution_count": null,
   "metadata": {},
   "outputs": [],
   "source": [
    "for i in range(epochs):\n",
    "    # train\n",
    "    train_loss = 0\n",
    "    for j,(audio,input_ids,attention_mask) in enumerate(train_loader):\n",
    "        audio,input_ids,attention_mask = jnp.array(audio,dtype=dtype),jnp.array(input_ids),jnp.array(attention_mask)\n",
    "        embedding,opt_states,l = train_one_step_embed(embedding,params,audio,input_ids,attention_mask,opt_states)\n",
    "        train_loss += l.item()\n",
    "        \n",
    "        # eval\n",
    "        if j%verbose == 0:\n",
    "            train_loss /= verbose    \n",
    "            eval_metric = 0\n",
    "            params['model']['decoder']['embed_tokens']['embedding'] = embedding\n",
    "            for k,(audio,txt) in enumerate(test_loader):\n",
    "                wer = eval_one_step(params,audio,txt)\n",
    "                eval_metric += wer\n",
    "            \n",
    "            eval_metric /= k\n",
    "            print(f\"iterations:{j}, loss: {train_loss:.3f}, wer: {eval_metric:.3f}\")\n",
    "            train_loss = 0"
   ]
  },
  {
   "cell_type": "code",
   "execution_count": null,
   "metadata": {},
   "outputs": [],
   "source": []
  },
  {
   "cell_type": "code",
   "execution_count": 10,
   "metadata": {},
   "outputs": [
    {
     "ename": "TypeError",
     "evalue": "mul got incompatible shapes for broadcasting: (16, 24), (16, 28).",
     "output_type": "error",
     "traceback": [
      "\u001b[0;31m---------------------------------------------------------------------------\u001b[0m",
      "\u001b[0;31mTypeError\u001b[0m                                 Traceback (most recent call last)",
      "Cell \u001b[0;32mIn[10], line 6\u001b[0m\n\u001b[1;32m      4\u001b[0m \u001b[39mfor\u001b[39;00m j,(audio,input_ids,attention_mask) \u001b[39min\u001b[39;00m \u001b[39menumerate\u001b[39m(train_loader):\n\u001b[1;32m      5\u001b[0m     audio,input_ids,attention_mask \u001b[39m=\u001b[39m jnp\u001b[39m.\u001b[39marray(audio,dtype\u001b[39m=\u001b[39mdtype),jnp\u001b[39m.\u001b[39marray(input_ids),jnp\u001b[39m.\u001b[39marray(attention_mask)\n\u001b[0;32m----> 6\u001b[0m     params,opt_states,l \u001b[39m=\u001b[39m train_one_step(params,audio,input_ids,attention_mask,opt_states)\n\u001b[1;32m      7\u001b[0m     train_loss \u001b[39m+\u001b[39m\u001b[39m=\u001b[39m l\u001b[39m.\u001b[39mitem()\n\u001b[1;32m      9\u001b[0m     \u001b[39m# eval\u001b[39;00m\n",
      "    \u001b[0;31m[... skipping hidden 12 frame]\u001b[0m\n",
      "Cell \u001b[0;32mIn[9], line 19\u001b[0m, in \u001b[0;36mtrain_one_step\u001b[0;34m(params, audio, input_ids, attention_mask, opt_states)\u001b[0m\n\u001b[1;32m     17\u001b[0m     \u001b[39mreturn\u001b[39;00m jnp\u001b[39m.\u001b[39mmean(optax\u001b[39m.\u001b[39msoftmax_cross_entropy_with_integer_labels(out[:,\u001b[39m3\u001b[39m:\u001b[39m-\u001b[39m\u001b[39m1\u001b[39m], input_ids[:,\u001b[39m4\u001b[39m:])\u001b[39m*\u001b[39mattention_mask)\n\u001b[1;32m     18\u001b[0m grad_fn \u001b[39m=\u001b[39m jax\u001b[39m.\u001b[39mvalue_and_grad(loss_fn,has_aux\u001b[39m=\u001b[39m\u001b[39mFalse\u001b[39;00m)\n\u001b[0;32m---> 19\u001b[0m l,grads \u001b[39m=\u001b[39m grad_fn(params,audio,input_ids,attention_mask)\n\u001b[1;32m     20\u001b[0m updates, opt_states \u001b[39m=\u001b[39m opt\u001b[39m.\u001b[39mupdate(grads, opt_states,params\u001b[39m=\u001b[39mparams)\n\u001b[1;32m     21\u001b[0m params \u001b[39m=\u001b[39m optax\u001b[39m.\u001b[39mapply_updates(params, updates)\n",
      "    \u001b[0;31m[... skipping hidden 8 frame]\u001b[0m\n",
      "Cell \u001b[0;32mIn[9], line 17\u001b[0m, in \u001b[0;36mtrain_one_step.<locals>.loss_fn\u001b[0;34m(params, audio, input_ids, attention_mask)\u001b[0m\n\u001b[1;32m     15\u001b[0m \u001b[39mdef\u001b[39;00m \u001b[39mloss_fn\u001b[39m(params,audio,input_ids,attention_mask):\n\u001b[1;32m     16\u001b[0m     out \u001b[39m=\u001b[39m model(audio,input_ids,decoder_attention_mask\u001b[39m=\u001b[39mattention_mask,params\u001b[39m=\u001b[39mparams,train\u001b[39m=\u001b[39m\u001b[39mTrue\u001b[39;00m)\u001b[39m.\u001b[39mlogits \u001b[39m# (B, L, d)\u001b[39;00m\n\u001b[0;32m---> 17\u001b[0m     \u001b[39mreturn\u001b[39;00m jnp\u001b[39m.\u001b[39mmean(optax\u001b[39m.\u001b[39;49msoftmax_cross_entropy_with_integer_labels(out[:,\u001b[39m3\u001b[39;49m:\u001b[39m-\u001b[39;49m\u001b[39m1\u001b[39;49m], input_ids[:,\u001b[39m4\u001b[39;49m:])\u001b[39m*\u001b[39;49mattention_mask)\n",
      "File \u001b[0;32m~/anaconda3/lib/python3.10/site-packages/jax/_src/numpy/array_methods.py:791\u001b[0m, in \u001b[0;36m_forward_operator_to_aval.<locals>.op\u001b[0;34m(self, *args)\u001b[0m\n\u001b[1;32m    790\u001b[0m \u001b[39mdef\u001b[39;00m \u001b[39mop\u001b[39m(\u001b[39mself\u001b[39m, \u001b[39m*\u001b[39margs):\n\u001b[0;32m--> 791\u001b[0m   \u001b[39mreturn\u001b[39;00m \u001b[39mgetattr\u001b[39;49m(\u001b[39mself\u001b[39;49m\u001b[39m.\u001b[39;49maval, \u001b[39mf\u001b[39;49m\u001b[39m\"\u001b[39;49m\u001b[39m_\u001b[39;49m\u001b[39m{\u001b[39;49;00mname\u001b[39m}\u001b[39;49;00m\u001b[39m\"\u001b[39;49m)(\u001b[39mself\u001b[39;49m, \u001b[39m*\u001b[39;49margs)\n",
      "File \u001b[0;32m~/anaconda3/lib/python3.10/site-packages/jax/_src/numpy/array_methods.py:258\u001b[0m, in \u001b[0;36m_defer_to_unrecognized_arg.<locals>.deferring_binary_op\u001b[0;34m(self, other)\u001b[0m\n\u001b[1;32m    256\u001b[0m args \u001b[39m=\u001b[39m (other, \u001b[39mself\u001b[39m) \u001b[39mif\u001b[39;00m swap \u001b[39melse\u001b[39;00m (\u001b[39mself\u001b[39m, other)\n\u001b[1;32m    257\u001b[0m \u001b[39mif\u001b[39;00m \u001b[39misinstance\u001b[39m(other, _accepted_binop_types):\n\u001b[0;32m--> 258\u001b[0m   \u001b[39mreturn\u001b[39;00m binary_op(\u001b[39m*\u001b[39;49margs)\n\u001b[1;32m    259\u001b[0m \u001b[39mif\u001b[39;00m \u001b[39misinstance\u001b[39m(other, _rejected_binop_types):\n\u001b[1;32m    260\u001b[0m   \u001b[39mraise\u001b[39;00m \u001b[39mTypeError\u001b[39;00m(\u001b[39mf\u001b[39m\u001b[39m\"\u001b[39m\u001b[39munsupported operand type(s) for \u001b[39m\u001b[39m{\u001b[39;00mopchar\u001b[39m}\u001b[39;00m\u001b[39m: \u001b[39m\u001b[39m\"\u001b[39m\n\u001b[1;32m    261\u001b[0m                   \u001b[39mf\u001b[39m\u001b[39m\"\u001b[39m\u001b[39m{\u001b[39;00m\u001b[39mtype\u001b[39m(args[\u001b[39m0\u001b[39m])\u001b[39m.\u001b[39m\u001b[39m__name__\u001b[39m\u001b[39m!r}\u001b[39;00m\u001b[39m and \u001b[39m\u001b[39m{\u001b[39;00m\u001b[39mtype\u001b[39m(args[\u001b[39m1\u001b[39m])\u001b[39m.\u001b[39m\u001b[39m__name__\u001b[39m\u001b[39m!r}\u001b[39;00m\u001b[39m\"\u001b[39m)\n",
      "    \u001b[0;31m[... skipping hidden 12 frame]\u001b[0m\n",
      "File \u001b[0;32m~/anaconda3/lib/python3.10/site-packages/jax/_src/numpy/ufuncs.py:97\u001b[0m, in \u001b[0;36m_maybe_bool_binop.<locals>.fn\u001b[0;34m(x1, x2)\u001b[0m\n\u001b[1;32m     95\u001b[0m \u001b[39mdef\u001b[39;00m \u001b[39mfn\u001b[39m(x1, x2, \u001b[39m/\u001b[39m):\n\u001b[1;32m     96\u001b[0m   x1, x2 \u001b[39m=\u001b[39m promote_args(numpy_fn\u001b[39m.\u001b[39m\u001b[39m__name__\u001b[39m, x1, x2)\n\u001b[0;32m---> 97\u001b[0m   \u001b[39mreturn\u001b[39;00m lax_fn(x1, x2) \u001b[39mif\u001b[39;00m x1\u001b[39m.\u001b[39mdtype \u001b[39m!=\u001b[39m np\u001b[39m.\u001b[39mbool_ \u001b[39melse\u001b[39;00m bool_lax_fn(x1, x2)\n",
      "    \u001b[0;31m[... skipping hidden 7 frame]\u001b[0m\n",
      "File \u001b[0;32m~/anaconda3/lib/python3.10/site-packages/jax/_src/lax/lax.py:1579\u001b[0m, in \u001b[0;36mbroadcasting_shape_rule\u001b[0;34m(name, *avals)\u001b[0m\n\u001b[1;32m   1577\u001b[0m       result_shape\u001b[39m.\u001b[39mappend(non_1s[\u001b[39m0\u001b[39m])\n\u001b[1;32m   1578\u001b[0m     \u001b[39melse\u001b[39;00m:\n\u001b[0;32m-> 1579\u001b[0m       \u001b[39mraise\u001b[39;00m \u001b[39mTypeError\u001b[39;00m(\u001b[39mf\u001b[39m\u001b[39m'\u001b[39m\u001b[39m{\u001b[39;00mname\u001b[39m}\u001b[39;00m\u001b[39m got incompatible shapes for broadcasting: \u001b[39m\u001b[39m'\u001b[39m\n\u001b[1;32m   1580\u001b[0m                       \u001b[39mf\u001b[39m\u001b[39m'\u001b[39m\u001b[39m{\u001b[39;00m\u001b[39m\"\u001b[39m\u001b[39m, \u001b[39m\u001b[39m\"\u001b[39m\u001b[39m.\u001b[39mjoin(\u001b[39mmap\u001b[39m(\u001b[39mstr\u001b[39m,\u001b[39m \u001b[39m\u001b[39mmap\u001b[39m(\u001b[39mtuple\u001b[39m,\u001b[39m \u001b[39mshapes)))\u001b[39m}\u001b[39;00m\u001b[39m.\u001b[39m\u001b[39m'\u001b[39m)\n\u001b[1;32m   1582\u001b[0m \u001b[39mreturn\u001b[39;00m \u001b[39mtuple\u001b[39m(result_shape)\n",
      "\u001b[0;31mTypeError\u001b[0m: mul got incompatible shapes for broadcasting: (16, 24), (16, 28)."
     ]
    }
   ],
   "source": [
    "for i in range(epochs):\n",
    "    # train\n",
    "    train_loss = 0\n",
    "    for j,(audio,input_ids,attention_mask) in enumerate(train_loader):\n",
    "        audio,input_ids,attention_mask = jnp.array(audio,dtype=dtype),jnp.array(input_ids),jnp.array(attention_mask)\n",
    "        params,opt_states,l = train_one_step(params,audio,input_ids,attention_mask,opt_states)\n",
    "        train_loss += l.item()\n",
    "        \n",
    "        # eval\n",
    "        if j%verbose == 0:\n",
    "            train_loss /= verbose    \n",
    "            eval_metric = 0\n",
    "            params['model']['decoder']['embed_tokens']['embedding'] = embedding\n",
    "            for k,(audio,txt) in enumerate(test_loader):\n",
    "                wer = eval_one_step(params,audio,txt)\n",
    "                eval_metric += wer\n",
    "            \n",
    "            eval_metric /= k\n",
    "            print(f\"iterations:{j}, loss: {train_loss:.3f}, wer: {eval_metric:.3f}\")\n",
    "            train_loss = 0"
   ]
  },
  {
   "cell_type": "code",
   "execution_count": null,
   "metadata": {},
   "outputs": [],
   "source": []
  }
 ],
 "metadata": {
  "kernelspec": {
   "display_name": "Python 3 (ipykernel)",
   "language": "python",
   "name": "python3"
  },
  "language_info": {
   "codemirror_mode": {
    "name": "ipython",
    "version": 3
   },
   "file_extension": ".py",
   "mimetype": "text/x-python",
   "name": "python",
   "nbconvert_exporter": "python",
   "pygments_lexer": "ipython3",
   "version": "3.10.9"
  }
 },
 "nbformat": 4,
 "nbformat_minor": 4
}
