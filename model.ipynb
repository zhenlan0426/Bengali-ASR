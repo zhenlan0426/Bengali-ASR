{
 "cells": [
  {
   "cell_type": "code",
   "execution_count": 1,
   "metadata": {
    "scrolled": true
   },
   "outputs": [],
   "source": [
    "import jax.numpy as jnp\n",
    "import jax\n",
    "if jax.device_count()>1:\n",
    "    dtype = jnp.bfloat16\n",
    "    num_workers = 16\n",
    "    try:\n",
    "        import transformers\n",
    "        speech_path = 'bengaliai-speech/train_mp3s/'\n",
    "        data_path = 'bengaliai-speech/train.csv'\n",
    "    except:\n",
    "        !pip install librosa --quiet\n",
    "        !pip install git+https://github.com/zhenlan0426/transformers --quiet\n",
    "        !pip install evaluate --quiet\n",
    "        !pip install sentencepiece --quiet\n",
    "        !pip install jiwer --quiet\n",
    "        speech_path = '/kaggle/input/bengaliai-speech/train_mp3s/'\n",
    "        data_path = '/kaggle/input/bengaliai-speech/train.csv'\n",
    "        \n",
    "else:\n",
    "    dtype = jnp.float16\n",
    "    speech_path = 'data/train_mp3s/'\n",
    "    data_path = 'data/train.csv'\n",
    "    num_workers = 8"
   ]
  },
  {
   "cell_type": "code",
   "execution_count": 2,
   "metadata": {},
   "outputs": [],
   "source": [
    "# from whisper_jax import FlaxWhisperForConditionalGeneration\n",
    "from transformers import FlaxWhisperForConditionalGeneration\n",
    "from functions import *\n",
    "from functools import partial\n",
    "import optax\n",
    "import evaluate\n",
    "from jax import random\n",
    "from transformers import AutoTokenizer"
   ]
  },
  {
   "cell_type": "code",
   "execution_count": 3,
   "metadata": {},
   "outputs": [],
   "source": [
    "batch_size = 16\n",
    "pad_to_multiple_of = 4\n",
    "max_length_gen = 48\n",
    "epochs = 1\n",
    "verbose = 625\n",
    "\n",
    "\n",
    "# tokenizer = WhisperTokenizer.from_pretrained(\"openai/whisper-large-v2\", language=\"bn\", task=\"transcribe\")\n",
    "tokenizer = AutoTokenizer.from_pretrained(\"csebuetnlp/banglat5\")\n",
    "tokenizer.bos_token = tokenizer.bos_token_id = None\n",
    "feature_extractor = WhisperFeatureExtractor.from_pretrained(\"openai/whisper-large-v2\")\n",
    "text = pd.read_csv(data_path)"
   ]
  },
  {
   "cell_type": "code",
   "execution_count": 4,
   "metadata": {},
   "outputs": [],
   "source": [
    "dataset = AudioDataset(text.iloc[:950000],speech_path)\n",
    "train_loader = DataLoader(dataset, batch_size=batch_size, shuffle=True, num_workers=num_workers, \\\n",
    "                        collate_fn=partial(collate_fn,tokenizer=tokenizer,feature_extractor=feature_extractor,pad_to_multiple_of=pad_to_multiple_of,IsTrain=True))\n",
    "\n",
    "dataset = AudioDataset(text.iloc[950000:],speech_path)\n",
    "test_loader = DataLoader(dataset, batch_size=batch_size*4, shuffle=False, num_workers=num_workers, \\\n",
    "                        collate_fn=partial(collate_fn,tokenizer=tokenizer,feature_extractor=feature_extractor,pad_to_multiple_of=pad_to_multiple_of,IsTrain=True))"
   ]
  },
  {
   "cell_type": "code",
   "execution_count": 5,
   "metadata": {},
   "outputs": [],
   "source": [
    "audio,input_ids,attention_mask = next(iter(train_loader))\n",
    "audio,input_ids,attention_mask = jnp.array(audio,dtype=dtype),jnp.array(input_ids),jnp.array(attention_mask)"
   ]
  },
  {
   "cell_type": "code",
   "execution_count": 6,
   "metadata": {},
   "outputs": [],
   "source": [
    "# load the processor and model\n",
    "model, params = FlaxWhisperForConditionalGeneration.from_pretrained(\n",
    "    \"openai/whisper-large-v2\", dtype=dtype, _do_init=False,)\n",
    "model.config.forced_decoder_ids = None\n",
    "model.config.bos_token_id = None\n",
    "model.config.suppress_tokens = None\n",
    "model.config.decoder_start_token_id = None\n",
    "model.generation_config.decoder_start_token_id = [50258, 50302, 50359, 50363]# '<|startoftranscript|><|bn|><|transcribe|><|notimestamps|>\n",
    "model.generation_config.forced_decoder_ids = None\n",
    "\"\"\"A list of pairs of integers which indicates a mapping from generation indices to token indices \n",
    "that will be forced before sampling. For example, [[0, 123]] means the first generated token \n",
    "will always be a token of index 123.\"\"\"\n",
    "model.generation_config.suppress_tokens = None\n",
    "model.generation_config.begin_suppress_tokens = None\n",
    "model.generation_config.bos_token_id = None"
   ]
  },
  {
   "cell_type": "code",
   "execution_count": 7,
   "metadata": {},
   "outputs": [],
   "source": [
    "# ensure std of init is the same\n",
    "std_ = params['model']['decoder']['embed_tokens']['embedding'].std().item()\n",
    "# reset the embedding params\n",
    "params['model']['decoder']['embed_tokens']['embedding'] = params['model']['decoder']['embed_tokens']['embedding'].at[:tokenizer.vocab_size]\\\n",
    "                                                                .set(random.normal(random.PRNGKey(7),(tokenizer.vocab_size,model.config.d_model)) * std_)\n",
    "embedding = params['model']['decoder']['embed_tokens']['embedding']"
   ]
  },
  {
   "cell_type": "code",
   "execution_count": 8,
   "metadata": {},
   "outputs": [],
   "source": [
    "opt = optax.adamw(learning_rate=1e-3)\n",
    "opt_states = opt.init(embedding)\n",
    "#opt_states = opt.init(params)"
   ]
  },
  {
   "cell_type": "code",
   "execution_count": 9,
   "metadata": {},
   "outputs": [],
   "source": [
    "# Generation\n",
    "# https://huggingface.co/transformers/v4.1.1/_modules/transformers/generation_logits_process.html\n",
    "# https://huggingface.co/docs/transformers.js/api/utils/generation#module_utils/\n",
    "# LogitsProcessor (input_ids: LongTensorscores with shape (batch, length), Score: FloatTensor ) → NewScore: FloatTensor with shape (batch_size, config.vocab_size)"
   ]
  },
  {
   "cell_type": "code",
   "execution_count": 10,
   "metadata": {},
   "outputs": [],
   "source": [
    "@jax.jit\n",
    "def train_one_step_embed(embedding,params,audio,input_ids,attention_mask,opt_states):\n",
    "    def loss_fn(embedding,params,audio,input_ids,attention_mask):\n",
    "        params['model']['decoder']['embed_tokens']['embedding'] = embedding\n",
    "        out = model(audio,input_ids,decoder_attention_mask=attention_mask,params=params,train=True).logits # (B, L, d)\n",
    "        return jnp.mean(optax.softmax_cross_entropy_with_integer_labels(out[:,3:-1], input_ids[:,4:])*attention_mask[:,4:])\n",
    "    grad_fn = jax.value_and_grad(loss_fn,has_aux=False)\n",
    "    l,grads = grad_fn(embedding,params,audio,input_ids,attention_mask)\n",
    "    updates, opt_states = opt.update(grads, opt_states,params=embedding)\n",
    "    embedding = optax.apply_updates(embedding, updates)\n",
    "    return embedding,opt_states,l\n",
    "\n",
    "@jax.jit\n",
    "def eval_one_step(params,audio,input_ids,attention_mask):\n",
    "    out = model(audio,input_ids,decoder_attention_mask=attention_mask,params=params,train=False).logits # (B, L, d)\n",
    "    return jnp.mean(optax.softmax_cross_entropy_with_integer_labels(out[:,3:-1], input_ids[:,4:])*attention_mask[:,4:])\n",
    "\n",
    "@jax.jit\n",
    "def train_one_step(params,audio,input_ids,attention_mask,opt_states):\n",
    "    def loss_fn(params,audio,input_ids,attention_mask):\n",
    "        out = model(audio,input_ids,decoder_attention_mask=attention_mask,params=params,train=True).logits # (B, L, d)\n",
    "        return jnp.mean(optax.softmax_cross_entropy_with_integer_labels(out[:,3:-1], input_ids[:,4:])*attention_mask[:,4:])\n",
    "    grad_fn = jax.value_and_grad(loss_fn,has_aux=False)\n",
    "    l,grads = grad_fn(params,audio,input_ids,attention_mask)\n",
    "    updates, opt_states = opt.update(grads, opt_states,params=params)\n",
    "    params = optax.apply_updates(params, updates)\n",
    "    return params,opt_states,l\n",
    "\n",
    "# @jax.jit\n",
    "# def generate(params,audio):\n",
    "#     return model.generate(audio,params=params,max_length=max_length_gen)\n",
    "\n",
    "metric = evaluate.load(\"wer\")\n",
    "def metric_one_step(params,audio,txt):\n",
    "    generated_ids = model.generate(audio,params=params,max_length=max_length_gen, num_beams=1, do_sample=False).sequences\n",
    "    transcriptions = tokenizer.batch_decode(generated_ids.tolist(), skip_special_tokens=True)\n",
    "    wer = metric.compute(predictions=transcriptions, references=txt)\n",
    "    return wer\n",
    "\n",
    "def batch_generate(loader):\n",
    "    pass\n",
    "    #transcriptions = [txt + \"|\" for txt in transcriptions]"
   ]
  },
  {
   "cell_type": "code",
   "execution_count": null,
   "metadata": {},
   "outputs": [],
   "source": [
    "for i in range(epochs):\n",
    "    # train\n",
    "    train_loss = 0\n",
    "    for j,(audio,input_ids,attention_mask) in enumerate(train_loader):\n",
    "        audio,input_ids,attention_mask = jnp.array(audio,dtype=dtype),jnp.array(input_ids),jnp.array(attention_mask)\n",
    "        embedding,opt_states,l = train_one_step_embed(embedding,params,audio,input_ids,attention_mask,opt_states)\n",
    "        train_loss += l.item()\n",
    "        \n",
    "        # eval\n",
    "        if j%verbose == 0:\n",
    "            train_loss /= verbose    \n",
    "            eval_metric = 0\n",
    "            params['model']['decoder']['embed_tokens']['embedding'] = embedding\n",
    "            for k,(audio,input_ids,attention_mask) in enumerate(test_loader):\n",
    "                audio,input_ids,attention_mask = jnp.array(audio,dtype=dtype),jnp.array(input_ids),jnp.array(attention_mask)\n",
    "                eval_l = eval_one_step(params,audio,input_ids,attention_mask)\n",
    "                eval_metric += eval_l.item()\n",
    "            \n",
    "            eval_metric /= k\n",
    "            print(f\"iterations:{j}, loss: {train_loss:.3f}, wer: {eval_metric:.3f}\")\n",
    "            train_loss = 0"
   ]
  },
  {
   "cell_type": "code",
   "execution_count": null,
   "metadata": {},
   "outputs": [],
   "source": []
  },
  {
   "cell_type": "code",
   "execution_count": null,
   "metadata": {},
   "outputs": [],
   "source": []
  }
 ],
 "metadata": {
  "kernelspec": {
   "display_name": "Python 3 (ipykernel)",
   "language": "python",
   "name": "python3"
  },
  "language_info": {
   "codemirror_mode": {
    "name": "ipython",
    "version": 3
   },
   "file_extension": ".py",
   "mimetype": "text/x-python",
   "name": "python",
   "nbconvert_exporter": "python",
   "pygments_lexer": "ipython3",
   "version": "3.10.9"
  }
 },
 "nbformat": 4,
 "nbformat_minor": 4
}
