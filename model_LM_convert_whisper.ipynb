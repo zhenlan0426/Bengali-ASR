{
 "cells": [
  {
   "cell_type": "code",
   "execution_count": 1,
   "metadata": {
    "scrolled": true
   },
   "outputs": [],
   "source": [
    "import torch\n",
    "IsTPU = False\n",
    "batch_size = 48\n",
    "device = 'cuda'\n",
    "dtype = torch.float32\n",
    "speech_path = 'data/train_mp3s/'\n",
    "data_path = 'data/train.csv'\n",
    "num_workers = 16\n",
    "clip = 3e-3\n",
    "lr = 3e-5\n",
    "output_path = ''\n",
    "model_path = '/home/zhenlan/Desktop/Projects/Bengali ASR/T5Model_whisper'\n",
    "background_audio = \"/home/zhenlan/Desktop/Projects/Bengali ASR/ESC-50-master/audio\"\n",
    "background_music = \"/home/zhenlan/Desktop/Projects/Bengali ASR/ESC-50-master/music\"\n",
    "add_data_path = 'dlsprint/train.csv'\n",
    "add_audio = 'dlsprint/train_files/'\n",
    "add_data_path2 = 'text_train'\n",
    "add_audio2 = 'RESPIN/'"
   ]
  },
  {
   "cell_type": "code",
   "execution_count": 2,
   "metadata": {},
   "outputs": [],
   "source": [
    "#from whisper_jax import FlaxWhisperForConditionalGeneration\n",
    "from functions import *\n",
    "import torch.nn as nn\n",
    "from functools import partial\n",
    "from transformers.modeling_outputs import BaseModelOutput\n",
    "from transformers import WhisperForConditionalGeneration\n",
    "from transformers.generation.configuration_utils import GenerationConfig\n",
    "from transformers import T5ForConditionalGeneration\n",
    "from transformers import AutoTokenizer\n",
    "from torch.optim import AdamW,Adam,SGD\n",
    "from torch.nn.utils import clip_grad_value_\n",
    "from torch.cuda.amp import GradScaler\n",
    "import time\n",
    "import warnings\n",
    "warnings.filterwarnings('ignore')"
   ]
  },
  {
   "cell_type": "code",
   "execution_count": 3,
   "metadata": {},
   "outputs": [],
   "source": [
    "model = torch.load(model_path + '/'+ 't5.pth').to(device)"
   ]
  },
  {
   "cell_type": "code",
   "execution_count": 4,
   "metadata": {},
   "outputs": [],
   "source": [
    "paras = list(model.encoder.fc1.parameters()) + list(model.encoder.fc2.parameters())\n",
    "# paras = model.parameters()\n",
    "opt = AdamW(paras,lr = lr,amsgrad=True)\n",
    "#opt = Adam(paras,lr = lr)\n",
    "#opt = SGD(paras,lr = lr)"
   ]
  },
  {
   "cell_type": "code",
   "execution_count": 5,
   "metadata": {},
   "outputs": [],
   "source": [
    "for param in model.encoder.encoder.parameters():\n",
    "    param.requires_grad = False\n",
    "for param in model.decoder.parameters():\n",
    "    param.requires_grad = False"
   ]
  },
  {
   "cell_type": "code",
   "execution_count": 6,
   "metadata": {},
   "outputs": [
    {
     "name": "stderr",
     "output_type": "stream",
     "text": [
      "You are using the default legacy behaviour of the <class 'transformers.models.t5.tokenization_t5.T5Tokenizer'>. This means that tokens that come after special tokens will not be properly handled. We recommend you to read the related pull request available at https://github.com/huggingface/transformers/pull/24565, and set the legacy attribute accordingly.\n"
     ]
    }
   ],
   "source": [
    "epochs = 1\n",
    "verbose = 100\n",
    "\n",
    "tokenizer = AutoTokenizer.from_pretrained(\"csebuetnlp/banglat5\")\n",
    "feature_extractor = WhisperFeatureExtractor.from_pretrained(\"openai/whisper-large-v2\")\n",
    "text = pd.read_csv(data_path)\n",
    "add_data = pd.read_csv(add_data_path)\n",
    "# data source 2\n",
    "df = pd.read_csv(add_data_path2,names=['code'])\n",
    "df[['code','sentence']] = df[\"code\"].str.split(\" \", n=1, expand=True)\n",
    "df.sentence = df.sentence.str.strip()"
   ]
  },
  {
   "cell_type": "code",
   "execution_count": 7,
   "metadata": {},
   "outputs": [],
   "source": [
    "# \"https://github.com/karoldvl/ESC-50/archive/master.zip\"\n",
    "from audiomentations import (\n",
    "    AddBackgroundNoise,\n",
    "    AddGaussianNoise,\n",
    "    Compose,\n",
    "    Gain,\n",
    "    GainTransition,\n",
    "    OneOf,\n",
    "    PitchShift,\n",
    "    PolarityInversion,\n",
    "    TimeStretch,\n",
    "    OneOf,\n",
    "    )\n",
    "\n",
    "# define augmentation\n",
    "augmentation = Compose(\n",
    "    [\n",
    "        TimeStretch(min_rate=0.9, max_rate=1.1, p=1, leave_length_unchanged=False),\n",
    "        Gain(min_gain_db=-6, max_gain_db=6, p=1),\n",
    "        GainTransition(min_gain_db=-6, max_gain_db=6),\n",
    "        PitchShift(min_semitones=-4, max_semitones=4, p=1),\n",
    "        OneOf([AddBackgroundNoise(sounds_path=background_audio, min_snr_in_db=1.0, max_snr_in_db=5.0, noise_transform=PolarityInversion(), p=1.0),\\\n",
    "              AddBackgroundNoise(sounds_path=background_music, min_snr_in_db=1.0, max_snr_in_db=5.0, noise_transform=PolarityInversion(), p=1.0)]),\n",
    "        AddGaussianNoise(min_amplitude=0.005, max_amplitude=0.015, p=1),\n",
    "    ]\n",
    ")\n"
   ]
  },
  {
   "cell_type": "code",
   "execution_count": 8,
   "metadata": {},
   "outputs": [],
   "source": [
    "dataset1 = AudioDataset(text,speech_path,lambda x:x.id+'.mp3',\\\n",
    "                       augmentation,orig_sr=32000, target_sr=16000)\n",
    "dataset2 = AudioDataset(add_data,add_audio,\\\n",
    "                        lambda x:x.path,augmentation,orig_sr=48000, target_sr=16000)\n",
    "dataset3 = AudioDataset(df,add_audio2,\\\n",
    "                        lambda x:x.code.split('_')[-1] + '.wav',augmentation,orig_sr=16000, target_sr=16000)\n",
    "# dataset1 = AudioDataset(text,speech_path,lambda x:x.id+'.mp3',\\\n",
    "#                        orig_sr=32000, target_sr=16000)\n",
    "# dataset2 = AudioDataset(add_data,add_audio,\\\n",
    "#                         lambda x:x.path,orig_sr=48000, target_sr=16000)\n",
    "# dataset3 = AudioDataset(df,add_audio2,\\\n",
    "#                         lambda x:x.code.split('_')[-1] + '.wav',orig_sr=16000, target_sr=16000)                        \n",
    "dataset = Add2Data(dataset1,dataset2)\n",
    "dataset = Add2Data(dataset,dataset3)\n",
    "train_loader = DataLoader(dataset, batch_size=batch_size, shuffle=True, num_workers=num_workers, \\\n",
    "                            collate_fn=partial(collate_fn_pt,tokenizer=tokenizer,feature_extractor=feature_extractor,IsTrain=True))"
   ]
  },
  {
   "cell_type": "code",
   "execution_count": 9,
   "metadata": {},
   "outputs": [],
   "source": [
    "# audio,input_ids,attention_mask = next(iter(train_loader))\n",
    "# audio,input_ids,attention_mask = torch.asarray(audio,dtype=torch.float32,device=device),torch.asarray(input_ids,dtype=torch.long,device=device),torch.asarray(attention_mask,dtype=torch.float32,device=device)\n",
    "# audio.shape,input_ids.shape\n",
    "# audio,input_ids,attention_mask = jnp.array(audio,dtype=dtype),jnp.array(input_ids),jnp.array(attention_mask)"
   ]
  },
  {
   "cell_type": "code",
   "execution_count": 10,
   "metadata": {},
   "outputs": [
    {
     "name": "stdout",
     "output_type": "stream",
     "text": [
      "iterations:100, loss: 6.414\n",
      "iterations:200, loss: 6.215\n",
      "iterations:300, loss: 6.197\n",
      "iterations:400, loss: 6.172\n",
      "iterations:500, loss: 6.146\n",
      "iterations:600, loss: 6.137\n",
      "iterations:700, loss: 6.096\n",
      "iterations:800, loss: 6.092\n",
      "iterations:900, loss: 6.097\n",
      "iterations:1000, loss: 6.051\n",
      "iterations:1100, loss: 6.043\n",
      "iterations:1200, loss: 6.020\n",
      "iterations:1300, loss: 6.032\n",
      "iterations:1400, loss: 6.044\n",
      "iterations:1500, loss: 6.032\n",
      "iterations:1600, loss: 5.977\n",
      "iterations:1700, loss: 5.990\n",
      "iterations:1800, loss: 5.970\n",
      "iterations:1900, loss: 5.950\n",
      "iterations:2000, loss: 5.934\n"
     ]
    }
   ],
   "source": [
    "# using whisper V9 as encoder\n",
    "model.train()\n",
    "np.random.seed()\n",
    "train_loss = 0\n",
    "skip = 0 \n",
    "# Training #\n",
    "for j,(audio,input_ids,attention_mask) in enumerate(train_loader):\n",
    "    if audio.shape[-1]>3000:\n",
    "        skip+=1\n",
    "        continue\n",
    "    audio,input_ids,attention_mask = torch.asarray(audio,dtype=torch.float32,device=device),\\\n",
    "                                     torch.asarray(input_ids,dtype=torch.long,device=device),\\\n",
    "                                     torch.asarray(attention_mask,dtype=torch.float32,device=device)\n",
    "    logits = model(input_ids=audio,decoder_input_ids=input_ids).logits\n",
    "    loss = torch.sum(torch.nn.CrossEntropyLoss(reduction='none')(logits[:,0:-1].reshape(-1,32128),\\\n",
    "                                                                input_ids[:,1:].reshape(-1))*attention_mask[:,1:].reshape(-1))/torch.sum(attention_mask[:,1:])\n",
    "    loss.backward()\n",
    "    clip_grad_value_(paras,clip)\n",
    "    opt.step()\n",
    "    opt.zero_grad()\n",
    "    train_loss += loss.item()\n",
    "    if j>0 and j%verbose == 0:\n",
    "        train_loss /= (verbose-skip)\n",
    "        print(f\"iterations:{j}, loss: {train_loss:.3f}\")\n",
    "        train_loss = 0\n",
    "        skip = 0\n",
    "    if j>2000:\n",
    "        break\n",
    "        # if j%50 ==0:\n",
    "        #     torch.save(model, '/home/zhenlan/Desktop/Projects/Bengali ASR/T5Model/t5.pth')"
   ]
  },
  {
   "cell_type": "code",
   "execution_count": 9,
   "metadata": {},
   "outputs": [],
   "source": [
    "# using whisper V9 as encoder\n",
    "model.train()\n",
    "np.random.seed()\n",
    "train_loss = 0\n",
    "skip = 0 \n",
    "# Training #\n",
    "for j,(audio,input_ids,attention_mask) in enumerate(train_loader):\n",
    "    if audio.shape[-1]>3000:\n",
    "        skip+=1\n",
    "        continue\n",
    "    audio,input_ids,attention_mask = torch.asarray(audio,dtype=torch.float32,device=device),\\\n",
    "                                     torch.asarray(input_ids,dtype=torch.long,device=device),\\\n",
    "                                     torch.asarray(attention_mask,dtype=torch.float32,device=device)\n",
    "    logits = model(input_ids=audio,decoder_input_ids=input_ids).logits\n",
    "    loss = torch.sum(torch.nn.CrossEntropyLoss(reduction='none')(logits[:,0:-1].reshape(-1,32128),\\\n",
    "                                                                input_ids[:,1:].reshape(-1))*attention_mask[:,1:].reshape(-1))/torch.sum(attention_mask[:,1:])\n",
    "    loss.backward()\n",
    "    clip_grad_value_(paras,clip)\n",
    "    opt.step()\n",
    "    opt.zero_grad()\n",
    "    train_loss += loss.item()\n",
    "    if j>0 and j%verbose == 0:\n",
    "        train_loss /= (verbose-skip)\n",
    "        print(f\"iterations:{j}, loss: {train_loss:.3f}\")\n",
    "        train_loss = 0\n",
    "        skip = 0\n",
    "    if j>4000:\n",
    "        break\n",
    "        # if j%50 ==0:\n",
    "        #     torch.save(model, '/home/zhenlan/Desktop/Projects/Bengali ASR/T5Model/t5.pth')"
   ]
  },
  {
   "cell_type": "code",
   "execution_count": 10,
   "metadata": {},
   "outputs": [],
   "source": [
    "# use_amp = True\n",
    "# model.train()\n",
    "# np.random.seed()\n",
    "# train_loss = 0\n",
    "# skip = 0\n",
    "# scaler = torch.cuda.amp.GradScaler(enabled=use_amp)\n",
    "# # Training #\n",
    "# for j,(audio,input_ids,attention_mask) in enumerate(train_loader):\n",
    "#     if audio.shape[-1]>3000:\n",
    "#         skip+=1\n",
    "#         continue\n",
    "#     audio,input_ids,attention_mask = torch.asarray(audio,device=device),\\\n",
    "#                                      torch.asarray(input_ids,device=device),\\\n",
    "#                                      torch.asarray(attention_mask,device=device)\n",
    "#     with torch.autocast(device_type=device, dtype=torch.float16, enabled=use_amp):\n",
    "#         logits = model(input_ids=audio,decoder_input_ids=input_ids).logits\n",
    "#         loss = torch.sum(torch.nn.CrossEntropyLoss(reduction='none')(logits[:,0:-1].reshape(-1,32128),\\\n",
    "#                                                                      input_ids[:,1:].reshape(-1))*attention_mask[:,1:].reshape(-1)/torch.sum(attention_mask[:,1:]))\n",
    "#     scaler.scale(loss).backward()\n",
    "#     scaler.unscale_(opt)\n",
    "#     clip_grad_value_(paras,clip)\n",
    "#     scaler.step(opt)\n",
    "#     scaler.update()\n",
    "#     opt.zero_grad()\n",
    "#     #print(torch.any(torch.isnan(logits)),scaler.get_scale())\n",
    "#     train_loss += loss.item()\n",
    "#     if j>0 and j%1 == 0:\n",
    "#         train_loss /= (verbose-skip)\n",
    "#         print(f\"iterations:{j}, loss: {train_loss:.3f}\")\n",
    "#         train_loss = 0\n",
    "#         skip = 0\n",
    "#     if j>2000:\n",
    "#         break"
   ]
  },
  {
   "cell_type": "code",
   "execution_count": null,
   "metadata": {},
   "outputs": [],
   "source": []
  },
  {
   "cell_type": "code",
   "execution_count": 11,
   "metadata": {},
   "outputs": [],
   "source": [
    "torch.save(model, model_path + '/t5.pth')"
   ]
  },
  {
   "cell_type": "code",
   "execution_count": null,
   "metadata": {},
   "outputs": [],
   "source": []
  }
 ],
 "metadata": {
  "kernelspec": {
   "display_name": "Python 3 (ipykernel)",
   "language": "python",
   "name": "python3"
  },
  "language_info": {
   "codemirror_mode": {
    "name": "ipython",
    "version": 3
   },
   "file_extension": ".py",
   "mimetype": "text/x-python",
   "name": "python",
   "nbconvert_exporter": "python",
   "pygments_lexer": "ipython3",
   "version": "3.10.9"
  }
 },
 "nbformat": 4,
 "nbformat_minor": 4
}
