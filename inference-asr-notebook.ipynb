{
 "cells": [
  {
   "cell_type": "code",
   "execution_count": 1,
   "id": "32374349",
   "metadata": {
    "execution": {
     "iopub.execute_input": "2023-08-13T22:43:01.577970Z",
     "iopub.status.busy": "2023-08-13T22:43:01.577572Z",
     "iopub.status.idle": "2023-08-13T22:43:01.588871Z",
     "shell.execute_reply": "2023-08-13T22:43:01.588052Z"
    },
    "papermill": {
     "duration": 0.01925,
     "end_time": "2023-08-13T22:43:01.590832",
     "exception": false,
     "start_time": "2023-08-13T22:43:01.571582",
     "status": "completed"
    },
    "tags": []
   },
   "outputs": [],
   "source": [
    "import sys\n",
    "sys.path.insert(0,'/kaggle/input/inference-asr/Inference')\n",
    "debug = False"
   ]
  },
  {
   "cell_type": "code",
   "execution_count": 2,
   "id": "2098234a",
   "metadata": {
    "_cell_guid": "9870e659-2d28-4e43-aa35-7621080a4513",
    "_uuid": "45c3e3c0-4904-4920-b30a-e3ec0dcff701",
    "collapsed": false,
    "execution": {
     "iopub.execute_input": "2023-08-13T22:43:01.600273Z",
     "iopub.status.busy": "2023-08-13T22:43:01.599675Z",
     "iopub.status.idle": "2023-08-13T22:43:20.186798Z",
     "shell.execute_reply": "2023-08-13T22:43:20.185810Z"
    },
    "jupyter": {
     "outputs_hidden": false
    },
    "papermill": {
     "duration": 18.594587,
     "end_time": "2023-08-13T22:43:20.189540",
     "exception": false,
     "start_time": "2023-08-13T22:43:01.594953",
     "status": "completed"
    },
    "tags": []
   },
   "outputs": [
    {
     "name": "stderr",
     "output_type": "stream",
     "text": [
      "/opt/conda/lib/python3.10/site-packages/scipy/__init__.py:146: UserWarning: A NumPy version >=1.16.5 and <1.23.0 is required for this version of SciPy (detected version 1.23.5\n",
      "  warnings.warn(f\"A NumPy version >={np_minversion} and <{np_maxversion}\"\n",
      "/opt/conda/lib/python3.10/site-packages/tensorflow_io/python/ops/__init__.py:98: UserWarning: unable to load libtensorflow_io_plugins.so: unable to open file: libtensorflow_io_plugins.so, from paths: ['/opt/conda/lib/python3.10/site-packages/tensorflow_io/python/ops/libtensorflow_io_plugins.so']\n",
      "caused by: ['/opt/conda/lib/python3.10/site-packages/tensorflow_io/python/ops/libtensorflow_io_plugins.so: undefined symbol: _ZN3tsl6StatusC1EN10tensorflow5error4CodeESt17basic_string_viewIcSt11char_traitsIcEENS_14SourceLocationE']\n",
      "  warnings.warn(f\"unable to load libtensorflow_io_plugins.so: {e}\")\n",
      "/opt/conda/lib/python3.10/site-packages/tensorflow_io/python/ops/__init__.py:104: UserWarning: file system plugins are not loaded: unable to open file: libtensorflow_io.so, from paths: ['/opt/conda/lib/python3.10/site-packages/tensorflow_io/python/ops/libtensorflow_io.so']\n",
      "caused by: ['/opt/conda/lib/python3.10/site-packages/tensorflow_io/python/ops/libtensorflow_io.so: undefined symbol: _ZTVN10tensorflow13GcsFileSystemE']\n",
      "  warnings.warn(f\"file system plugins are not loaded: {e}\")\n"
     ]
    }
   ],
   "source": [
    "#from whisper_jax import FlaxWhisperForConditionalGeneration\n",
    "from transformers import WhisperForConditionalGeneration\n",
    "from transformers import WhisperFeatureExtractor\n",
    "\n",
    "from functions_infer import *\n",
    "import pandas as pd\n",
    "import torch\n",
    "from functools import partial\n",
    "from transformers import AutoTokenizer\n",
    "from glob import glob\n",
    "import os"
   ]
  },
  {
   "cell_type": "code",
   "execution_count": 3,
   "id": "ffa61c57",
   "metadata": {
    "_cell_guid": "adb14ab8-465d-4355-a595-028038477097",
    "_uuid": "229d060d-834e-4bcb-adfd-f6de75bf6b59",
    "collapsed": false,
    "execution": {
     "iopub.execute_input": "2023-08-13T22:43:20.200729Z",
     "iopub.status.busy": "2023-08-13T22:43:20.199279Z",
     "iopub.status.idle": "2023-08-13T22:43:20.364924Z",
     "shell.execute_reply": "2023-08-13T22:43:20.363935Z"
    },
    "jupyter": {
     "outputs_hidden": false
    },
    "papermill": {
     "duration": 0.173497,
     "end_time": "2023-08-13T22:43:20.367464",
     "exception": false,
     "start_time": "2023-08-13T22:43:20.193967",
     "status": "completed"
    },
    "tags": []
   },
   "outputs": [],
   "source": [
    "pad_to_multiple_of = 1\n",
    "max_length_gen = 72\n",
    "batch_size = 32\n",
    "num_workers = 4\n",
    "device = 'cuda'\n",
    "\n",
    "# tokenizer = WhisperTokenizer.from_pretrained(\"openai/whisper-large-v2\", language=\"bn\", task=\"transcribe\")\n",
    "tokenizer = AutoTokenizer.from_pretrained(\"/kaggle/input/tokenizer-asr/token_banglat5/token_banglat5\")\n",
    "tokenizer.bos_token = tokenizer.bos_token_id = None\n",
    "feature_extractor = WhisperFeatureExtractor.from_pretrained(\"/kaggle/input/tokenizer-asr/whisper_feat/whisper_feat\")"
   ]
  },
  {
   "cell_type": "code",
   "execution_count": 4,
   "id": "f09b98d2",
   "metadata": {
    "_cell_guid": "7d4ad74e-44ae-4c19-b31c-df27c18db72e",
    "_uuid": "e3840053-a3be-44c0-91bf-615b3233d397",
    "collapsed": false,
    "execution": {
     "iopub.execute_input": "2023-08-13T22:43:20.377540Z",
     "iopub.status.busy": "2023-08-13T22:43:20.376924Z",
     "iopub.status.idle": "2023-08-13T22:43:20.387627Z",
     "shell.execute_reply": "2023-08-13T22:43:20.386785Z"
    },
    "jupyter": {
     "outputs_hidden": false
    },
    "papermill": {
     "duration": 0.01793,
     "end_time": "2023-08-13T22:43:20.389747",
     "exception": false,
     "start_time": "2023-08-13T22:43:20.371817",
     "status": "completed"
    },
    "tags": []
   },
   "outputs": [],
   "source": [
    "TEST_DIRECTORY = '/kaggle/input/bengaliai-speech/train_mp3s/' if debug else '/kaggle/input/bengaliai-speech/test_mp3s/'\n",
    "model_path = \"/kaggle/input/new-model\"\n",
    "paths = glob(os.path.join(TEST_DIRECTORY,'*.mp3'))\n",
    "if debug:\n",
    "    paths = paths[:3000]"
   ]
  },
  {
   "cell_type": "code",
   "execution_count": 5,
   "id": "5109e6e3",
   "metadata": {
    "execution": {
     "iopub.execute_input": "2023-08-13T22:43:20.398969Z",
     "iopub.status.busy": "2023-08-13T22:43:20.398718Z",
     "iopub.status.idle": "2023-08-13T22:43:20.411813Z",
     "shell.execute_reply": "2023-08-13T22:43:20.410974Z"
    },
    "papermill": {
     "duration": 0.02013,
     "end_time": "2023-08-13T22:43:20.413907",
     "exception": false,
     "start_time": "2023-08-13T22:43:20.393777",
     "status": "completed"
    },
    "tags": []
   },
   "outputs": [],
   "source": [
    "df= pd.DataFrame(\n",
    "    {\n",
    "        \"id\":[p.split(os.sep)[-1].replace('.mp3','') for p in paths],\n",
    "        \"size\":[os.stat(f).st_size/1024 for f in paths]\n",
    "    }\n",
    ")\n",
    "df = df.sort_values('size')"
   ]
  },
  {
   "cell_type": "code",
   "execution_count": 6,
   "id": "d127bb83",
   "metadata": {
    "_cell_guid": "841d8088-4f08-481e-a368-a31e47811b88",
    "_uuid": "4ba59cdd-3d50-4ef5-96fc-eee2ea20eb9d",
    "collapsed": false,
    "execution": {
     "iopub.execute_input": "2023-08-13T22:43:20.423579Z",
     "iopub.status.busy": "2023-08-13T22:43:20.422835Z",
     "iopub.status.idle": "2023-08-13T22:43:20.430613Z",
     "shell.execute_reply": "2023-08-13T22:43:20.429359Z"
    },
    "jupyter": {
     "outputs_hidden": false
    },
    "papermill": {
     "duration": 0.014532,
     "end_time": "2023-08-13T22:43:20.432510",
     "exception": false,
     "start_time": "2023-08-13T22:43:20.417978",
     "status": "completed"
    },
    "tags": []
   },
   "outputs": [
    {
     "name": "stderr",
     "output_type": "stream",
     "text": [
      "/opt/conda/lib/python3.10/site-packages/torch/utils/data/dataloader.py:561: UserWarning: This DataLoader will create 4 worker processes in total. Our suggested max number of worker in current system is 2, which is smaller than what this DataLoader is going to create. Please be aware that excessive worker creation might get DataLoader running slow or even freeze, lower the worker number to avoid potential slowness/freeze if necessary.\n",
      "  warnings.warn(_create_warning_msg(\n"
     ]
    }
   ],
   "source": [
    "dataset = Inference(TEST_DIRECTORY,df)\n",
    "train_loader = DataLoader(dataset, batch_size=batch_size, shuffle=False, num_workers=num_workers, \\\n",
    "                          collate_fn=partial(collate_fn_infer,feature_extractor=feature_extractor))"
   ]
  },
  {
   "cell_type": "code",
   "execution_count": 7,
   "id": "c7d71099",
   "metadata": {
    "_cell_guid": "d3734925-a14f-40f3-990c-cc74c2bab807",
    "_uuid": "4ab140ab-6dd6-42a5-8ada-30c9d4a28594",
    "collapsed": false,
    "execution": {
     "iopub.execute_input": "2023-08-13T22:43:20.442298Z",
     "iopub.status.busy": "2023-08-13T22:43:20.441536Z",
     "iopub.status.idle": "2023-08-13T22:43:38.573408Z",
     "shell.execute_reply": "2023-08-13T22:43:38.572418Z"
    },
    "jupyter": {
     "outputs_hidden": false
    },
    "papermill": {
     "duration": 18.139219,
     "end_time": "2023-08-13T22:43:38.575842",
     "exception": false,
     "start_time": "2023-08-13T22:43:20.436623",
     "status": "completed"
    },
    "tags": []
   },
   "outputs": [],
   "source": [
    "model = WhisperForConditionalGeneration.from_pretrained(model_path).to(device)\n",
    "model.eval()\n",
    "model.config.forced_decoder_ids = None\n",
    "model.config.bos_token_id = None\n",
    "model.config.suppress_tokens = None\n",
    "model.config.decoder_start_token_id = None\n",
    "model.generation_config.decoder_start_token_id = [50258, 50302, 50359, 50363]# '<|startoftranscript|><|bn|><|transcribe|><|notimestamps|>\n",
    "model.generation_config.forced_decoder_ids = None\n",
    "\"\"\"A list of pairs of integers which indicates a mapping from generation indices to token indices \n",
    "that will be forced before sampling. For example, [[0, 123]] means the first generated token \n",
    "will always be a token of index 123.\"\"\"\n",
    "model.generation_config.suppress_tokens = None\n",
    "model.generation_config.begin_suppress_tokens = None\n",
    "model.generation_config.bos_token_id = None"
   ]
  },
  {
   "cell_type": "code",
   "execution_count": 8,
   "id": "c049159d",
   "metadata": {
    "_cell_guid": "f8635589-8b28-45b5-bb8a-2de7c7d6095b",
    "_uuid": "dbf3c72b-8c0f-4197-86aa-f4f7da59c3b9",
    "collapsed": false,
    "execution": {
     "iopub.execute_input": "2023-08-13T22:43:38.587467Z",
     "iopub.status.busy": "2023-08-13T22:43:38.586563Z",
     "iopub.status.idle": "2023-08-13T22:43:56.761913Z",
     "shell.execute_reply": "2023-08-13T22:43:56.760545Z"
    },
    "jupyter": {
     "outputs_hidden": false
    },
    "papermill": {
     "duration": 18.183358,
     "end_time": "2023-08-13T22:43:56.764572",
     "exception": false,
     "start_time": "2023-08-13T22:43:38.581214",
     "status": "completed"
    },
    "tags": []
   },
   "outputs": [],
   "source": [
    "preds_all = []\n",
    "for audio in train_loader:\n",
    "    #audio = jnp.array(audio,dtype=dtype)\n",
    "    with torch.no_grad():\n",
    "        generated_ids = model.generate(torch.tensor(audio,device=device),max_length=max_length_gen, num_beams=1, do_sample=False)\n",
    "    transcriptions = tokenizer.batch_decode(generated_ids.tolist(), skip_special_tokens=True)\n",
    "    preds_all+=transcriptions"
   ]
  },
  {
   "cell_type": "code",
   "execution_count": 9,
   "id": "053469cf",
   "metadata": {
    "_cell_guid": "44e6db7c-2a2c-431a-86a5-d03011bd06c6",
    "_uuid": "5e5054af-4899-4eb2-a205-7f03793d89ef",
    "collapsed": false,
    "execution": {
     "iopub.execute_input": "2023-08-13T22:43:56.774913Z",
     "iopub.status.busy": "2023-08-13T22:43:56.774589Z",
     "iopub.status.idle": "2023-08-13T22:43:56.829340Z",
     "shell.execute_reply": "2023-08-13T22:43:56.828451Z"
    },
    "jupyter": {
     "outputs_hidden": false
    },
    "papermill": {
     "duration": 0.062154,
     "end_time": "2023-08-13T22:43:56.831290",
     "exception": false,
     "start_time": "2023-08-13T22:43:56.769136",
     "status": "completed"
    },
    "tags": []
   },
   "outputs": [],
   "source": [
    "from bnunicodenormalizer import Normalizer\n",
    "bnorm = Normalizer()\n",
    "def normalize(sen):\n",
    "    _words = [bnorm(word)['normalized']  for word in sen.split()]\n",
    "    return \" \".join([word for word in _words if word is not None])\n",
    "\n",
    "def dari(sentence):\n",
    "    if len(sentence) == 0:\n",
    "        return sentence\n",
    "    if sentence[-1]!=\"।\":\n",
    "        sentence+=\"।\"\n",
    "    return sentence"
   ]
  },
  {
   "cell_type": "code",
   "execution_count": 10,
   "id": "3b09a7cd",
   "metadata": {
    "execution": {
     "iopub.execute_input": "2023-08-13T22:43:56.844430Z",
     "iopub.status.busy": "2023-08-13T22:43:56.842608Z",
     "iopub.status.idle": "2023-08-13T22:43:56.878021Z",
     "shell.execute_reply": "2023-08-13T22:43:56.877026Z"
    },
    "papermill": {
     "duration": 0.044256,
     "end_time": "2023-08-13T22:43:56.880451",
     "exception": false,
     "start_time": "2023-08-13T22:43:56.836195",
     "status": "completed"
    },
    "tags": []
   },
   "outputs": [],
   "source": [
    "df['sentence'] = preds_all\n",
    "df = df.drop(columns=['size'])\n",
    "df.sentence= df.sentence.apply(lambda x:normalize(x))\n",
    "df.sentence= df.sentence.apply(dari)"
   ]
  },
  {
   "cell_type": "code",
   "execution_count": 11,
   "id": "7c79d516",
   "metadata": {
    "_cell_guid": "3c133dd5-c241-453e-9793-e4e320bf103f",
    "_uuid": "b90a4e65-5972-4e17-85ee-c5d32d388496",
    "collapsed": false,
    "execution": {
     "iopub.execute_input": "2023-08-13T22:43:56.891671Z",
     "iopub.status.busy": "2023-08-13T22:43:56.891367Z",
     "iopub.status.idle": "2023-08-13T22:43:56.900502Z",
     "shell.execute_reply": "2023-08-13T22:43:56.899573Z"
    },
    "jupyter": {
     "outputs_hidden": false
    },
    "papermill": {
     "duration": 0.017319,
     "end_time": "2023-08-13T22:43:56.902673",
     "exception": false,
     "start_time": "2023-08-13T22:43:56.885354",
     "status": "completed"
    },
    "tags": []
   },
   "outputs": [],
   "source": [
    "df.to_csv(\"submission.csv\", index=False)"
   ]
  }
 ],
 "metadata": {
  "kernelspec": {
   "display_name": "Python 3",
   "language": "python",
   "name": "python3"
  },
  "language_info": {
   "codemirror_mode": {
    "name": "ipython",
    "version": 3
   },
   "file_extension": ".py",
   "mimetype": "text/x-python",
   "name": "python",
   "nbconvert_exporter": "python",
   "pygments_lexer": "ipython3",
   "version": "3.10.12"
  },
  "papermill": {
   "default_parameters": {},
   "duration": 68.761755,
   "end_time": "2023-08-13T22:44:00.026078",
   "environment_variables": {},
   "exception": null,
   "input_path": "__notebook__.ipynb",
   "output_path": "__notebook__.ipynb",
   "parameters": {},
   "start_time": "2023-08-13T22:42:51.264323",
   "version": "2.4.0"
  }
 },
 "nbformat": 4,
 "nbformat_minor": 5
}
