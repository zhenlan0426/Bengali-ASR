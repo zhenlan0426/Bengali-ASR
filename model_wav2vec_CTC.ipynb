{
 "cells": [
  {
   "cell_type": "code",
   "execution_count": 1,
   "metadata": {
    "scrolled": true
   },
   "outputs": [],
   "source": [
    "import torch\n",
    "IsTPU = False\n",
    "# batch_size = 4\n",
    "device = 'cuda'\n",
    "dtype = torch.float32\n",
    "speech_path = 'data/train_mp3s/'\n",
    "data_path = 'data/train.csv'\n",
    "num_workers = 16\n",
    "accumulation_steps = 16\n",
    "clip = 1e-3\n",
    "lr = 1e-5\n",
    "output_path = ''\n",
    "# model_path = '/home/zhenlan/Desktop/Projects/Bengali ASR/wav2vec_CTC/wav2vec.pth'\n",
    "background_audio = \"/home/zhenlan/Desktop/Projects/Bengali ASR/ESC-50-master/audio\"\n",
    "background_music = \"/home/zhenlan/Desktop/Projects/Bengali ASR/ESC-50-master/music\"\n",
    "add_data_path = 'dlsprint/train.csv'\n",
    "add_audio = 'dlsprint/train_files/'\n",
    "add_data_path2 = 'text_train'\n",
    "add_audio2 = 'RESPIN/'\n",
    "add_data_path3 = '/home/zhenlan/Desktop/Projects/Bengali ASR/asr_bengali/utt_spk_text.tsv'\n",
    "add_audio3 = '/home/zhenlan/Desktop/Projects/Bengali ASR/asr_bengali/data/'"
   ]
  },
  {
   "cell_type": "code",
   "execution_count": 2,
   "metadata": {},
   "outputs": [],
   "source": [
    "#from whisper_jax import FlaxWhisperForConditionalGeneration\n",
    "from functions import *\n",
    "import torch.nn as nn\n",
    "from functools import partial\n",
    "from transformers.modeling_outputs import BaseModelOutput\n",
    "from transformers import WhisperForConditionalGeneration\n",
    "from transformers.generation.configuration_utils import GenerationConfig\n",
    "from transformers import AutoTokenizer,Wav2Vec2Processor\n",
    "from torch.optim import AdamW,Adam,SGD\n",
    "from torch.nn.utils import clip_grad_value_\n",
    "from torch.cuda.amp import GradScaler\n",
    "import time\n",
    "import math\n",
    "import pickle\n",
    "import warnings\n",
    "warnings.filterwarnings('ignore')"
   ]
  },
  {
   "cell_type": "code",
   "execution_count": null,
   "metadata": {},
   "outputs": [],
   "source": [
    "# model = torch.load(model_path).to(device)\n",
    "from transformers import Wav2Vec2ForCTC\n",
    "model = Wav2Vec2ForCTC.from_pretrained(\"Sameen53/training_45k\").to(device)"
   ]
  },
  {
   "cell_type": "code",
   "execution_count": null,
   "metadata": {},
   "outputs": [],
   "source": [
    "paras = model.parameters()\n",
    "opt = AdamW(paras,lr = lr,amsgrad=True)\n",
    "#opt = Adam(paras,lr = lr)\n",
    "# opt = SGD(paras,lr = lr)"
   ]
  },
  {
   "cell_type": "code",
   "execution_count": 3,
   "metadata": {},
   "outputs": [],
   "source": [
    "epochs = 1\n",
    "verbose = 500\n",
    "processor = Wav2Vec2Processor.from_pretrained(\"arijitx/wav2vec2-xls-r-300m-bengali\")\n",
    "tokenizer = processor.tokenizer\n",
    "feature_extractor = processor.feature_extractor\n",
    "text = pd.read_csv(data_path)\n",
    "add_data = pd.read_csv(add_data_path)\n",
    "# data source 2\n",
    "df = pd.read_csv(add_data_path2,names=['code'])\n",
    "df[['code','sentence']] = df[\"code\"].str.split(\" \", n=1, expand=True)\n",
    "df.sentence = df.sentence.str.strip()\n",
    "df4 = pd.read_csv(add_data_path3, sep='\\t', header=None)\n",
    "df4.columns = [\"audio_path\", \"__\", \"sentence\"]\n",
    "df4 = df4.drop(\"__\", axis=1)"
   ]
  },
  {
   "cell_type": "code",
   "execution_count": 4,
   "metadata": {},
   "outputs": [],
   "source": [
    "# \"https://github.com/karoldvl/ESC-50/archive/master.zip\"\n",
    "from audiomentations import (\n",
    "    AddBackgroundNoise,\n",
    "    AddGaussianNoise,\n",
    "    Compose,\n",
    "    Gain,\n",
    "    GainTransition,\n",
    "    OneOf,\n",
    "    PitchShift,\n",
    "    PolarityInversion,\n",
    "    TimeStretch,\n",
    "    OneOf,\n",
    "    )\n",
    "\n",
    "# define augmentation\n",
    "augmentation = Compose(\n",
    "    [\n",
    "        TimeStretch(min_rate=0.9, max_rate=1.1, p=1, leave_length_unchanged=False),\n",
    "        Gain(min_gain_db=-6, max_gain_db=6, p=1),\n",
    "        GainTransition(min_gain_db=-6, max_gain_db=6),\n",
    "        PitchShift(min_semitones=-4, max_semitones=4, p=1),\n",
    "        OneOf([AddBackgroundNoise(sounds_path=background_audio, min_snr_in_db=1.0, max_snr_in_db=5.0, noise_transform=PolarityInversion(), p=1.0),\\\n",
    "              AddBackgroundNoise(sounds_path=background_music, min_snr_in_db=1.0, max_snr_in_db=5.0, noise_transform=PolarityInversion(), p=1.0)]),\n",
    "        AddGaussianNoise(min_amplitude=0.005, max_amplitude=0.015, p=1),\n",
    "    ]\n",
    ")\n"
   ]
  },
  {
   "cell_type": "code",
   "execution_count": 5,
   "metadata": {},
   "outputs": [],
   "source": [
    "with open(\"lengths\", \"rb\") as fp:\n",
    "    lengths = pickle.load(fp)\n",
    "dataset1 = AudioDataset(text,speech_path,lambda x:x.id+'.mp3',\\\n",
    "                       augmentation,orig_sr=32000, target_sr=16000)\n",
    "dataset2 = AudioDataset(add_data,add_audio,\\\n",
    "                        lambda x:x.path,augmentation,orig_sr=48000, target_sr=16000)\n",
    "dataset3 = AudioDataset(df,add_audio2,\\\n",
    "                        lambda x:x.code.split('_')[-1] + '.wav',augmentation,orig_sr=16000, target_sr=16000)\n",
    "dataset4 = AudioDataset(df4,add_audio3,\\\n",
    "                        lambda x:x.audio_path + '.flac',orig_sr=16000, target_sr=16000)\n",
    "                    \n",
    "dataset = Add2Data(dataset1,dataset2)\n",
    "dataset = Add2Data(dataset,dataset3)\n",
    "dataset = Add2Data(dataset,dataset4)\n",
    "train_loader = DataLoader(dataset, num_workers=num_workers, \\\n",
    "                            collate_fn=partial(collate_fn_pt_wav2vec,tokenizer=tokenizer,feature_extractor=feature_extractor),\\\n",
    "                            batch_sampler=DynamicBucketingBatchSampler(lengths))"
   ]
  },
  {
   "cell_type": "code",
   "execution_count": null,
   "metadata": {},
   "outputs": [],
   "source": [
    "#%debug\n",
    "# audio,input_ids,attention_mask = next(iter(train_loader))\n",
    "# audio,input_ids,attention_mask = torch.asarray(audio,dtype=torch.float32,device=device),torch.asarray(input_ids,dtype=torch.long,device=device),torch.asarray(attention_mask,dtype=torch.float32,device=device)\n",
    "# audio.shape,input_ids.shape\n",
    "# attention_mask.sum()/attention_mask.shape[0]/attention_mask.shape[1]\n",
    "# audio,input_ids,attention_mask = jnp.array(audio,dtype=dtype),jnp.array(input_ids),jnp.array(attention_mask)"
   ]
  },
  {
   "cell_type": "code",
   "execution_count": null,
   "metadata": {},
   "outputs": [],
   "source": [
    "# lengths1 = [librosa.load(speech_path + text.iloc[i].id+'.mp3')[0].shape[0] for i in range(text.shape[0])]\n",
    "# lengths2 = [librosa.load(add_audio + add_data.iloc[i].path)[0].shape[0] for i in range(add_data.shape[0])]\n",
    "# lengths3 = [librosa.load(add_audio2 + df.iloc[i].code.split('_')[-1] + '.wav')[0].shape[0] for i in range(df.shape[0])]\n",
    "# lengths4 = [librosa.load(add_audio3 + df4.iloc[i].audio_path + '.flac')[0].shape[0] for i in range(df4.shape[0])]\n",
    "# import matplotlib.pyplot as plt\n",
    "# plt.hist(lengths1,range=(0,535815))\n",
    "# plt.hist(lengths3,range=(0,535815))\n",
    "# plt.hist(lengths2,range=(0,535815))\n",
    "# import pickle\n",
    "# lengths = lengths1 + lengths2 + lengths3 + lengths4\n",
    "# with open(\"lengths\", \"wb\") as fp:\n",
    "#     pickle.dump(lengths, fp)"
   ]
  },
  {
   "cell_type": "code",
   "execution_count": null,
   "metadata": {},
   "outputs": [],
   "source": [
    "use_amp = True\n",
    "model.train()\n",
    "np.random.seed()\n",
    "train_loss = 0\n",
    "skip = 0\n",
    "scaler = torch.cuda.amp.GradScaler(enabled=use_amp)\n",
    "# Training #\n",
    "for j,(audio,input_ids,attention_mask) in enumerate(train_loader):\n",
    "    audio,input_ids,attention_mask = torch.asarray(audio,device=device),\\\n",
    "                                     torch.asarray(input_ids,device=device),\\\n",
    "                                     torch.asarray(attention_mask,device=device)\n",
    "    with torch.autocast(device_type=device, dtype=torch.float16, enabled=use_amp):\n",
    "        loss = model(audio,attention_mask=attention_mask,labels=input_ids).loss\n",
    "    if math.isinf(loss.item()) or math.isnan(loss.item()):\n",
    "        skip += 1\n",
    "        continue\n",
    "    train_loss += loss.item()\n",
    "    scaler.scale(loss).backward()\n",
    "    if j%accumulation_steps == 0:\n",
    "        scaler.unscale_(opt)\n",
    "        clip_grad_value_(paras,clip)\n",
    "        scaler.step(opt)\n",
    "        scaler.update()\n",
    "        opt.zero_grad()\n",
    "    #print(torch.any(torch.isnan(logits)),scaler.get_scale())\n",
    "    if j>0 and j%verbose == 0:\n",
    "        train_loss /= (verbose-skip)\n",
    "        print(f\"iterations:{j}, loss: {train_loss:.3f}\")\n",
    "        train_loss = 0\n",
    "        skip = 0\n",
    "    if j%2000==0:\n",
    "        torch.save(model, model_path)"
   ]
  },
  {
   "cell_type": "code",
   "execution_count": null,
   "metadata": {},
   "outputs": [],
   "source": []
  }
 ],
 "metadata": {
  "kernelspec": {
   "display_name": "Python 3 (ipykernel)",
   "language": "python",
   "name": "python3"
  },
  "language_info": {
   "codemirror_mode": {
    "name": "ipython",
    "version": 3
   },
   "file_extension": ".py",
   "mimetype": "text/x-python",
   "name": "python",
   "nbconvert_exporter": "python",
   "pygments_lexer": "ipython3",
   "version": "3.10.9"
  }
 },
 "nbformat": 4,
 "nbformat_minor": 4
}
